{
 "cells": [
  {
   "cell_type": "markdown",
   "metadata": {},
   "source": [
    "KNN"
   ]
  },
  {
   "cell_type": "markdown",
   "metadata": {},
   "source": [
    "to clean a dataset\n",
    "data.isnull().sum() return num of missing values\n",
    "data.dropna() drops rows with missing values\n",
    "data.dropna(axis=1) drops columns with missing values\n",
    "\n",
    "to fill na w/constants\n",
    "data['col name'].data.fillna(0, inplace = True) fills missing values with 0"
   ]
  },
  {
   "cell_type": "code",
   "execution_count": 128,
   "metadata": {},
   "outputs": [],
   "source": [
    "from sklearn.metrics import accuracy_score, confusion_matrix, f1_score\n",
    "from sklearn.model_selection import train_test_split, KFold, cross_val_score\n",
    "from sklearn.neighbors import KNeighborsClassifier\n",
    "from sklearn.preprocessing import StandardScaler\n",
    "import matplotlib.pyplot as plt\n",
    "import pandas as pd"
   ]
  },
  {
   "cell_type": "code",
   "execution_count": 129,
   "metadata": {},
   "outputs": [],
   "source": [
    "df = pd.read_csv('heart.csv')\n"
   ]
  },
  {
   "cell_type": "code",
   "execution_count": 130,
   "metadata": {},
   "outputs": [
    {
     "data": {
      "text/html": [
       "<div>\n",
       "<style scoped>\n",
       "    .dataframe tbody tr th:only-of-type {\n",
       "        vertical-align: middle;\n",
       "    }\n",
       "\n",
       "    .dataframe tbody tr th {\n",
       "        vertical-align: top;\n",
       "    }\n",
       "\n",
       "    .dataframe thead th {\n",
       "        text-align: right;\n",
       "    }\n",
       "</style>\n",
       "<table border=\"1\" class=\"dataframe\">\n",
       "  <thead>\n",
       "    <tr style=\"text-align: right;\">\n",
       "      <th></th>\n",
       "      <th>age</th>\n",
       "      <th>sex</th>\n",
       "      <th>cp</th>\n",
       "      <th>trestbps</th>\n",
       "      <th>chol</th>\n",
       "      <th>fbs</th>\n",
       "      <th>restecg</th>\n",
       "      <th>thalach</th>\n",
       "      <th>exang</th>\n",
       "      <th>oldpeak</th>\n",
       "      <th>slope</th>\n",
       "      <th>ca</th>\n",
       "      <th>thal</th>\n",
       "      <th>target</th>\n",
       "    </tr>\n",
       "  </thead>\n",
       "  <tbody>\n",
       "    <tr>\n",
       "      <th>0</th>\n",
       "      <td>52</td>\n",
       "      <td>1</td>\n",
       "      <td>0</td>\n",
       "      <td>125</td>\n",
       "      <td>212</td>\n",
       "      <td>0</td>\n",
       "      <td>1</td>\n",
       "      <td>168</td>\n",
       "      <td>0</td>\n",
       "      <td>1.0</td>\n",
       "      <td>2</td>\n",
       "      <td>2</td>\n",
       "      <td>3</td>\n",
       "      <td>0</td>\n",
       "    </tr>\n",
       "    <tr>\n",
       "      <th>1</th>\n",
       "      <td>53</td>\n",
       "      <td>1</td>\n",
       "      <td>0</td>\n",
       "      <td>140</td>\n",
       "      <td>203</td>\n",
       "      <td>1</td>\n",
       "      <td>0</td>\n",
       "      <td>155</td>\n",
       "      <td>1</td>\n",
       "      <td>3.1</td>\n",
       "      <td>0</td>\n",
       "      <td>0</td>\n",
       "      <td>3</td>\n",
       "      <td>0</td>\n",
       "    </tr>\n",
       "    <tr>\n",
       "      <th>2</th>\n",
       "      <td>70</td>\n",
       "      <td>1</td>\n",
       "      <td>0</td>\n",
       "      <td>145</td>\n",
       "      <td>174</td>\n",
       "      <td>0</td>\n",
       "      <td>1</td>\n",
       "      <td>125</td>\n",
       "      <td>1</td>\n",
       "      <td>2.6</td>\n",
       "      <td>0</td>\n",
       "      <td>0</td>\n",
       "      <td>3</td>\n",
       "      <td>0</td>\n",
       "    </tr>\n",
       "    <tr>\n",
       "      <th>3</th>\n",
       "      <td>61</td>\n",
       "      <td>1</td>\n",
       "      <td>0</td>\n",
       "      <td>148</td>\n",
       "      <td>203</td>\n",
       "      <td>0</td>\n",
       "      <td>1</td>\n",
       "      <td>161</td>\n",
       "      <td>0</td>\n",
       "      <td>0.0</td>\n",
       "      <td>2</td>\n",
       "      <td>1</td>\n",
       "      <td>3</td>\n",
       "      <td>0</td>\n",
       "    </tr>\n",
       "    <tr>\n",
       "      <th>4</th>\n",
       "      <td>62</td>\n",
       "      <td>0</td>\n",
       "      <td>0</td>\n",
       "      <td>138</td>\n",
       "      <td>294</td>\n",
       "      <td>1</td>\n",
       "      <td>1</td>\n",
       "      <td>106</td>\n",
       "      <td>0</td>\n",
       "      <td>1.9</td>\n",
       "      <td>1</td>\n",
       "      <td>3</td>\n",
       "      <td>2</td>\n",
       "      <td>0</td>\n",
       "    </tr>\n",
       "  </tbody>\n",
       "</table>\n",
       "</div>"
      ],
      "text/plain": [
       "   age  sex  cp  trestbps  chol  fbs  ...  exang  oldpeak  slope  ca  thal  target\n",
       "0   52    1   0       125   212    0  ...      0      1.0      2   2     3       0\n",
       "1   53    1   0       140   203    1  ...      1      3.1      0   0     3       0\n",
       "2   70    1   0       145   174    0  ...      1      2.6      0   0     3       0\n",
       "3   61    1   0       148   203    0  ...      0      0.0      2   1     3       0\n",
       "4   62    0   0       138   294    1  ...      0      1.9      1   3     2       0\n",
       "\n",
       "[5 rows x 14 columns]"
      ]
     },
     "execution_count": 130,
     "metadata": {},
     "output_type": "execute_result"
    }
   ],
   "source": [
    "df.head()"
   ]
  },
  {
   "cell_type": "code",
   "execution_count": 131,
   "metadata": {},
   "outputs": [],
   "source": [
    "X = df.drop('target', axis = 1)\n",
    "Y = df['target'] "
   ]
  },
  {
   "cell_type": "code",
   "execution_count": 132,
   "metadata": {},
   "outputs": [],
   "source": [
    "scaler = StandardScaler()\n",
    "scaled_x = scaler.fit_transform(X)\n"
   ]
  },
  {
   "cell_type": "code",
   "execution_count": 133,
   "metadata": {},
   "outputs": [],
   "source": [
    "X_train, X_test, Y_train, Y_test = train_test_split(scaled_x,Y,test_size=0.2, random_state=2)"
   ]
  },
  {
   "cell_type": "code",
   "execution_count": 134,
   "metadata": {},
   "outputs": [],
   "source": [
    "accuracies = {}\n",
    "for i in range(1,251):\n",
    "    knn = KNeighborsClassifier(n_neighbors=i)\n",
    "    knn.fit(X_train, Y_train)\n",
    "    predictions = knn.predict(X_test)\n",
    "    accuracies[i] = accuracy_score(Y_test, predictions)\n",
    "    \n"
   ]
  },
  {
   "cell_type": "code",
   "execution_count": 135,
   "metadata": {},
   "outputs": [
    {
     "name": "stdout",
     "output_type": "stream",
     "text": [
      "Neighbor w/ Max Accuracy Score:  1\n",
      "Accuracy Score of Neighbor w/ Max Accuracy Score:  1.0\n",
      "Neighbor w/ Min Accuracy Score:  137\n",
      "Accuracy Score of Neighbor w/ Min Accuracy Score:  0.8\n"
     ]
    }
   ],
   "source": [
    "print(\"Neighbor w/ Max Accuracy Score: \", max(accuracies, key = accuracies.get))\n",
    "print(\"Accuracy Score of Neighbor w/ Max Accuracy Score: \", accuracies[max(accuracies, key = accuracies.get)])\n",
    "\n",
    "print(\"Neighbor w/ Min Accuracy Score: \", min(accuracies, key = accuracies.get))\n",
    "print(\"Accuracy Score of Neighbor w/ Min Accuracy Score: \", accuracies[min(accuracies, key = accuracies.get)])"
   ]
  },
  {
   "cell_type": "code",
   "execution_count": 136,
   "metadata": {},
   "outputs": [
    {
     "data": {
      "text/plain": [
       "{1: 1.0,\n",
       " 2: 0.9512195121951219,\n",
       " 3: 0.9365853658536586,\n",
       " 4: 0.9121951219512195,\n",
       " 5: 0.8292682926829268,\n",
       " 6: 0.848780487804878,\n",
       " 7: 0.8585365853658536,\n",
       " 8: 0.8536585365853658,\n",
       " 9: 0.8926829268292683,\n",
       " 10: 0.8829268292682927,\n",
       " 11: 0.8731707317073171,\n",
       " 12: 0.8634146341463415,\n",
       " 13: 0.8634146341463415,\n",
       " 14: 0.8634146341463415,\n",
       " 15: 0.8682926829268293,\n",
       " 16: 0.8536585365853658,\n",
       " 17: 0.8731707317073171,\n",
       " 18: 0.8829268292682927,\n",
       " 19: 0.8731707317073171,\n",
       " 20: 0.8682926829268293,\n",
       " 21: 0.8585365853658536,\n",
       " 22: 0.848780487804878,\n",
       " 23: 0.8585365853658536,\n",
       " 24: 0.8585365853658536,\n",
       " 25: 0.8682926829268293,\n",
       " 26: 0.8585365853658536,\n",
       " 27: 0.8536585365853658,\n",
       " 28: 0.8536585365853658,\n",
       " 29: 0.8536585365853658,\n",
       " 30: 0.8682926829268293,\n",
       " 31: 0.8439024390243902,\n",
       " 32: 0.8390243902439024,\n",
       " 33: 0.8439024390243902,\n",
       " 34: 0.8439024390243902,\n",
       " 35: 0.8390243902439024,\n",
       " 36: 0.8585365853658536,\n",
       " 37: 0.8536585365853658,\n",
       " 38: 0.8585365853658536,\n",
       " 39: 0.8536585365853658,\n",
       " 40: 0.8439024390243902,\n",
       " 41: 0.848780487804878,\n",
       " 42: 0.8536585365853658,\n",
       " 43: 0.8634146341463415,\n",
       " 44: 0.8536585365853658,\n",
       " 45: 0.8439024390243902,\n",
       " 46: 0.8536585365853658,\n",
       " 47: 0.848780487804878,\n",
       " 48: 0.8390243902439024,\n",
       " 49: 0.8439024390243902,\n",
       " 50: 0.8439024390243902,\n",
       " 51: 0.8585365853658536,\n",
       " 52: 0.848780487804878,\n",
       " 53: 0.8390243902439024,\n",
       " 54: 0.8390243902439024,\n",
       " 55: 0.8341463414634146,\n",
       " 56: 0.848780487804878,\n",
       " 57: 0.8439024390243902,\n",
       " 58: 0.8439024390243902,\n",
       " 59: 0.8390243902439024,\n",
       " 60: 0.8439024390243902,\n",
       " 61: 0.8390243902439024,\n",
       " 62: 0.8390243902439024,\n",
       " 63: 0.8195121951219512,\n",
       " 64: 0.8146341463414634,\n",
       " 65: 0.8146341463414634,\n",
       " 66: 0.8341463414634146,\n",
       " 67: 0.8341463414634146,\n",
       " 68: 0.8341463414634146,\n",
       " 69: 0.8341463414634146,\n",
       " 70: 0.8292682926829268,\n",
       " 71: 0.8341463414634146,\n",
       " 72: 0.8341463414634146,\n",
       " 73: 0.8292682926829268,\n",
       " 74: 0.8292682926829268,\n",
       " 75: 0.8292682926829268,\n",
       " 76: 0.8292682926829268,\n",
       " 77: 0.8292682926829268,\n",
       " 78: 0.8292682926829268,\n",
       " 79: 0.8390243902439024,\n",
       " 80: 0.848780487804878,\n",
       " 81: 0.8341463414634146,\n",
       " 82: 0.8390243902439024,\n",
       " 83: 0.8390243902439024,\n",
       " 84: 0.8585365853658536,\n",
       " 85: 0.848780487804878,\n",
       " 86: 0.8390243902439024,\n",
       " 87: 0.8390243902439024,\n",
       " 88: 0.8390243902439024,\n",
       " 89: 0.8390243902439024,\n",
       " 90: 0.8390243902439024,\n",
       " 91: 0.8390243902439024,\n",
       " 92: 0.8585365853658536,\n",
       " 93: 0.8585365853658536,\n",
       " 94: 0.848780487804878,\n",
       " 95: 0.8341463414634146,\n",
       " 96: 0.848780487804878,\n",
       " 97: 0.8585365853658536,\n",
       " 98: 0.8585365853658536,\n",
       " 99: 0.8341463414634146,\n",
       " 100: 0.8341463414634146,\n",
       " 101: 0.8146341463414634,\n",
       " 102: 0.8146341463414634,\n",
       " 103: 0.8146341463414634,\n",
       " 104: 0.8146341463414634,\n",
       " 105: 0.8097560975609757,\n",
       " 106: 0.8097560975609757,\n",
       " 107: 0.824390243902439,\n",
       " 108: 0.824390243902439,\n",
       " 109: 0.8146341463414634,\n",
       " 110: 0.8146341463414634,\n",
       " 111: 0.8195121951219512,\n",
       " 112: 0.8292682926829268,\n",
       " 113: 0.824390243902439,\n",
       " 114: 0.8146341463414634,\n",
       " 115: 0.8146341463414634,\n",
       " 116: 0.8146341463414634,\n",
       " 117: 0.8146341463414634,\n",
       " 118: 0.8195121951219512,\n",
       " 119: 0.8195121951219512,\n",
       " 120: 0.8292682926829268,\n",
       " 121: 0.8292682926829268,\n",
       " 122: 0.8292682926829268,\n",
       " 123: 0.8195121951219512,\n",
       " 124: 0.8195121951219512,\n",
       " 125: 0.8195121951219512,\n",
       " 126: 0.8195121951219512,\n",
       " 127: 0.8097560975609757,\n",
       " 128: 0.8097560975609757,\n",
       " 129: 0.8097560975609757,\n",
       " 130: 0.8195121951219512,\n",
       " 131: 0.8146341463414634,\n",
       " 132: 0.8146341463414634,\n",
       " 133: 0.8097560975609757,\n",
       " 134: 0.8146341463414634,\n",
       " 135: 0.8146341463414634,\n",
       " 136: 0.8146341463414634,\n",
       " 137: 0.8,\n",
       " 138: 0.8,\n",
       " 139: 0.8048780487804879,\n",
       " 140: 0.8048780487804879,\n",
       " 141: 0.8048780487804879,\n",
       " 142: 0.8146341463414634,\n",
       " 143: 0.8146341463414634,\n",
       " 144: 0.8195121951219512,\n",
       " 145: 0.8097560975609757,\n",
       " 146: 0.8097560975609757,\n",
       " 147: 0.8048780487804879,\n",
       " 148: 0.8146341463414634,\n",
       " 149: 0.8146341463414634,\n",
       " 150: 0.8146341463414634,\n",
       " 151: 0.8048780487804879,\n",
       " 152: 0.8048780487804879,\n",
       " 153: 0.8048780487804879,\n",
       " 154: 0.8048780487804879,\n",
       " 155: 0.8048780487804879,\n",
       " 156: 0.8048780487804879,\n",
       " 157: 0.8048780487804879,\n",
       " 158: 0.8048780487804879,\n",
       " 159: 0.8048780487804879,\n",
       " 160: 0.8048780487804879,\n",
       " 161: 0.8048780487804879,\n",
       " 162: 0.8048780487804879,\n",
       " 163: 0.8048780487804879,\n",
       " 164: 0.8048780487804879,\n",
       " 165: 0.8048780487804879,\n",
       " 166: 0.8097560975609757,\n",
       " 167: 0.8097560975609757,\n",
       " 168: 0.8097560975609757,\n",
       " 169: 0.8097560975609757,\n",
       " 170: 0.8097560975609757,\n",
       " 171: 0.8048780487804879,\n",
       " 172: 0.8048780487804879,\n",
       " 173: 0.8048780487804879,\n",
       " 174: 0.8097560975609757,\n",
       " 175: 0.8097560975609757,\n",
       " 176: 0.8097560975609757,\n",
       " 177: 0.8097560975609757,\n",
       " 178: 0.8097560975609757,\n",
       " 179: 0.8097560975609757,\n",
       " 180: 0.8097560975609757,\n",
       " 181: 0.8097560975609757,\n",
       " 182: 0.8097560975609757,\n",
       " 183: 0.8048780487804879,\n",
       " 184: 0.8048780487804879,\n",
       " 185: 0.8048780487804879,\n",
       " 186: 0.8097560975609757,\n",
       " 187: 0.8097560975609757,\n",
       " 188: 0.8097560975609757,\n",
       " 189: 0.8097560975609757,\n",
       " 190: 0.8097560975609757,\n",
       " 191: 0.8097560975609757,\n",
       " 192: 0.8097560975609757,\n",
       " 193: 0.8097560975609757,\n",
       " 194: 0.8097560975609757,\n",
       " 195: 0.8048780487804879,\n",
       " 196: 0.8048780487804879,\n",
       " 197: 0.8048780487804879,\n",
       " 198: 0.8048780487804879,\n",
       " 199: 0.8048780487804879,\n",
       " 200: 0.8048780487804879,\n",
       " 201: 0.8048780487804879,\n",
       " 202: 0.8048780487804879,\n",
       " 203: 0.8048780487804879,\n",
       " 204: 0.8097560975609757,\n",
       " 205: 0.8097560975609757,\n",
       " 206: 0.8097560975609757,\n",
       " 207: 0.8097560975609757,\n",
       " 208: 0.8097560975609757,\n",
       " 209: 0.8097560975609757,\n",
       " 210: 0.8097560975609757,\n",
       " 211: 0.8097560975609757,\n",
       " 212: 0.8097560975609757,\n",
       " 213: 0.8097560975609757,\n",
       " 214: 0.8097560975609757,\n",
       " 215: 0.8097560975609757,\n",
       " 216: 0.8097560975609757,\n",
       " 217: 0.8048780487804879,\n",
       " 218: 0.8048780487804879,\n",
       " 219: 0.8048780487804879,\n",
       " 220: 0.8048780487804879,\n",
       " 221: 0.8048780487804879,\n",
       " 222: 0.8048780487804879,\n",
       " 223: 0.8097560975609757,\n",
       " 224: 0.8097560975609757,\n",
       " 225: 0.8097560975609757,\n",
       " 226: 0.8097560975609757,\n",
       " 227: 0.8048780487804879,\n",
       " 228: 0.8048780487804879,\n",
       " 229: 0.8048780487804879,\n",
       " 230: 0.8048780487804879,\n",
       " 231: 0.8048780487804879,\n",
       " 232: 0.8048780487804879,\n",
       " 233: 0.8048780487804879,\n",
       " 234: 0.8048780487804879,\n",
       " 235: 0.8048780487804879,\n",
       " 236: 0.8048780487804879,\n",
       " 237: 0.8048780487804879,\n",
       " 238: 0.8048780487804879,\n",
       " 239: 0.8048780487804879,\n",
       " 240: 0.8048780487804879,\n",
       " 241: 0.8048780487804879,\n",
       " 242: 0.8048780487804879,\n",
       " 243: 0.8048780487804879,\n",
       " 244: 0.8048780487804879,\n",
       " 245: 0.8048780487804879,\n",
       " 246: 0.8048780487804879,\n",
       " 247: 0.8048780487804879,\n",
       " 248: 0.8097560975609757,\n",
       " 249: 0.8097560975609757,\n",
       " 250: 0.8097560975609757}"
      ]
     },
     "execution_count": 136,
     "metadata": {},
     "output_type": "execute_result"
    }
   ],
   "source": [
    "accuracies"
   ]
  },
  {
   "cell_type": "code",
   "execution_count": 137,
   "metadata": {},
   "outputs": [],
   "source": [
    "knn =  KNeighborsClassifier(n_neighbors=1)\n",
    "accuracies = {}\n",
    "for i in range(1,11):\n",
    "    X_train, X_test, Y_train, Y_test = train_test_split(scaled_x, Y, test_size=0.2, random_state=i)\n",
    "    knn.fit(X_train, Y_train)\n",
    "    predictions = knn.predict(X_test)\n",
    "    accuracies[i] = accuracy_score(Y_test, predictions)\n",
    "\n",
    "    "
   ]
  },
  {
   "cell_type": "code",
   "execution_count": 138,
   "metadata": {},
   "outputs": [
    {
     "name": "stdout",
     "output_type": "stream",
     "text": [
      "1  seed value has the highest accuracy:  1.0\n",
      "7  seed value has the lowest accuracy:  0.9804878048780488\n"
     ]
    }
   ],
   "source": [
    "print(max(accuracies, key = accuracies.get), \" seed value has the highest accuracy: \", accuracies[max(accuracies, key = accuracies.get)])\n",
    "print(min(accuracies, key = accuracies.get), \" seed value has the lowest accuracy: \", accuracies[min(accuracies, key = accuracies.get)])"
   ]
  },
  {
   "cell_type": "code",
   "execution_count": 139,
   "metadata": {},
   "outputs": [
    {
     "data": {
      "text/plain": [
       "{1: 1.0,\n",
       " 2: 1.0,\n",
       " 3: 1.0,\n",
       " 4: 1.0,\n",
       " 5: 1.0,\n",
       " 6: 0.9853658536585366,\n",
       " 7: 0.9804878048780488,\n",
       " 8: 1.0,\n",
       " 9: 0.9853658536585366,\n",
       " 10: 1.0}"
      ]
     },
     "execution_count": 139,
     "metadata": {},
     "output_type": "execute_result"
    }
   ],
   "source": [
    "accuracies"
   ]
  },
  {
   "cell_type": "code",
   "execution_count": 140,
   "metadata": {},
   "outputs": [],
   "source": [
    "X_train,X_test,Y_train,Y_test = train_test_split(scaled_x,Y,test_size=0.3,random_state=1)\n",
    "knn = KNeighborsClassifier(n_neighbors=1)\n",
    "knn.fit(X_train,Y_train)\n",
    "predictions = knn.predict(X_test)"
   ]
  },
  {
   "cell_type": "code",
   "execution_count": 141,
   "metadata": {},
   "outputs": [
    {
     "data": {
      "text/plain": [
       "0.987012987012987"
      ]
     },
     "execution_count": 141,
     "metadata": {},
     "output_type": "execute_result"
    }
   ],
   "source": [
    "accuracy_score(Y_test, predictions)"
   ]
  },
  {
   "cell_type": "code",
   "execution_count": 142,
   "metadata": {},
   "outputs": [
    {
     "data": {
      "text/plain": [
       "np.float64(0.9865771812080537)"
      ]
     },
     "execution_count": 142,
     "metadata": {},
     "output_type": "execute_result"
    }
   ],
   "source": [
    "f1_score(Y_test, predictions)"
   ]
  },
  {
   "cell_type": "code",
   "execution_count": 143,
   "metadata": {},
   "outputs": [],
   "source": [
    "cm = confusion_matrix(Y_test, predictions)"
   ]
  },
  {
   "cell_type": "code",
   "execution_count": 144,
   "metadata": {},
   "outputs": [
    {
     "data": {
      "text/plain": [
       "array([[157,   4],\n",
       "       [  0, 147]])"
      ]
     },
     "execution_count": 144,
     "metadata": {},
     "output_type": "execute_result"
    }
   ],
   "source": [
    "\n",
    "cm"
   ]
  },
  {
   "cell_type": "code",
   "execution_count": 145,
   "metadata": {},
   "outputs": [
    {
     "data": {
      "image/png": "[encoded data removed]",
      "text/plain": [
       "<Figure size 800x800 with 2 Axes>"
      ]
     },
     "metadata": {},
     "output_type": "display_data"
    }
   ],
   "source": [
    "import seaborn as sns\n",
    "plt.figure(figsize = (8,8))\n",
    "sns.heatmap(cm, annot = True, fmt = 'd',cmap = 'coolwarm')\n",
    "plt.title('Confusion Matrix')\n",
    "plt.xlabel('Predicted Label')\n",
    "plt.ylabel('True Label')\n",
    "plt.tight_layout()\n",
    "plt.show()"
   ]
  },
  {
   "cell_type": "code",
   "execution_count": 146,
   "metadata": {},
   "outputs": [],
   "source": [
    "kf = KFold(n_splits = 10, shuffle = True, random_state = 42)\n",
    "cv_scores = cross_val_score(knn,scaled_x,Y,cv = kf, scoring = 'accuracy')"
   ]
  },
  {
   "cell_type": "code",
   "execution_count": 147,
   "metadata": {},
   "outputs": [
    {
     "data": {
      "text/plain": [
       "np.float64(0.9970873786407767)"
      ]
     },
     "execution_count": 147,
     "metadata": {},
     "output_type": "execute_result"
    }
   ],
   "source": [
    "import numpy as np\n",
    "np.mean(cv_scores)"
   ]
  }
 ],
 "metadata": {
  "kernelspec": {
   "display_name": "Python 3",
   "language": "python",
   "name": "python3"
  },
  "language_info": {
   "codemirror_mode": {
    "name": "ipython",
    "version": 3
   },
   "file_extension": ".py",
   "mimetype": "text/x-python",
   "name": "python",
   "nbconvert_exporter": "python",
   "pygments_lexer": "ipython3",
   "version": "3.12.6"
  }
 },
 "nbformat": 4,
 "nbformat_minor": 2
}
